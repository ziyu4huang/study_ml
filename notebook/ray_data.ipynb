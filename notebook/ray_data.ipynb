{
 "cells": [
  {
   "cell_type": "code",
   "execution_count": 1,
   "id": "075feb25-4621-4bb2-82d8-622fea1835c5",
   "metadata": {},
   "outputs": [
    {
     "data": {
      "text/plain": [
       "RayContext(dashboard_url='172.23.26.224:8265', python_version='3.7.13', ray_version='1.12.0', ray_commit='f18fc31c7562990955556899090f8e8656b48d2d', address_info={'node_ip_address': '172.23.26.224', 'raylet_ip_address': '172.23.26.224', 'redis_address': None, 'object_store_address': '/tmp/ray/session_2022-04-29_06-13-01_190575_25038/sockets/plasma_store', 'raylet_socket_name': '/tmp/ray/session_2022-04-29_06-13-01_190575_25038/sockets/raylet', 'webui_url': '172.23.26.224:8265', 'session_dir': '/tmp/ray/session_2022-04-29_06-13-01_190575_25038', 'metrics_export_port': 52000, 'gcs_address': '172.23.26.224:6379', 'address': '172.23.26.224:6379', 'node_id': 'e3d750590cbe3ab4b34fd045e96e3917c23338b2326a1fb4dd6a34ed'})"
      ]
     },
     "execution_count": 1,
     "metadata": {},
     "output_type": "execute_result"
    }
   ],
   "source": [
    "#%env MY_VAR MY_VALUE\n",
    "\n",
    "import ray\n",
    "\n",
    "# This must\n",
    "ray.init(address=\"auto\")\n",
    "\n",
    "# ray start --head --port 6379 --dashboard-host '0.0.0.0' --dashboard-port 8265 \n",
    "# --gcs-server-port 8075 --object-manager-port 8076 --node-manager-port 8077 \n",
    "# --min-worker-port 10002 --max-worker-port 19999 --autoscaling-config=~/ray_bootstrap_config.yaml\n"
   ]
  },
  {
   "cell_type": "code",
   "execution_count": 4,
   "id": "6e60dad4-1b9e-4d1a-bf45-5eefdc492504",
   "metadata": {},
   "outputs": [
    {
     "name": "stdout",
     "output_type": "stream",
     "text": [
      "{'col1': 0, 'col2': '0'}\n",
      "{'col1': 1, 'col2': '1'}\n",
      "{'col1': 2, 'col2': '2'}\n",
      "{'col1': 3, 'col2': '3'}\n",
      "{'col1': 4, 'col2': '4'}\n"
     ]
    },
    {
     "data": {
      "text/plain": [
       "col1: int64\n",
       "col2: string"
      ]
     },
     "execution_count": 4,
     "metadata": {},
     "output_type": "execute_result"
    }
   ],
   "source": [
    "\n",
    "\n",
    "# Create a Dataset of Python objects.\n",
    "ds = ray.data.range(10000)\n",
    "# -> Dataset(num_blocks=200, num_rows=10000, schema=<class 'int'>)\n",
    "\n",
    "ds.take(5)\n",
    "# -> [0, 1, 2, 3, 4]\n",
    "\n",
    "ds.count()\n",
    "# -> 10000\n",
    "\n",
    "# Create a Dataset of Arrow records.\n",
    "ds = ray.data.from_items([{\"col1\": i, \"col2\": str(i)} for i in range(10000)])\n",
    "# -> Dataset(num_blocks=200, num_rows=10000, schema={col1: int64, col2: string})\n",
    "\n",
    "ds.show(5)\n",
    "# -> {'col1': 0, 'col2': '0'}\n",
    "# -> {'col1': 1, 'col2': '1'}\n",
    "# -> {'col1': 2, 'col2': '2'}\n",
    "# -> {'col1': 3, 'col2': '3'}\n",
    "# -> {'col1': 4, 'col2': '4'}\n",
    "\n",
    "ds.schema()\n",
    "# -> col1: int64\n",
    "# -> col2: string"
   ]
  },
  {
   "cell_type": "code",
   "execution_count": null,
   "id": "016c37b4-7add-43cf-bca7-707a405244bf",
   "metadata": {},
   "outputs": [],
   "source": []
  },
  {
   "cell_type": "code",
   "execution_count": null,
   "id": "8c90cfe7-c62d-4090-8d91-860cf31fe7bf",
   "metadata": {},
   "outputs": [],
   "source": []
  },
  {
   "cell_type": "markdown",
   "id": "72bf5d91-3d2f-46ce-a307-f8ec8ec202f9",
   "metadata": {},
   "source": [
    "# reference to here \n",
    "[ref link](https://docs.ray.io/en/latest/data/getting-started.html)\n",
    "# above expect output\n",
    "```\n",
    "{'col1': 0, 'col2': '0'}\n",
    "{'col1': 1, 'col2': '1'}\n",
    "{'col1': 2, 'col2': '2'}\n",
    "{'col1': 3, 'col2': '3'}\n",
    "{'col1': 4, 'col2': '4'}\n",
    "col1: int64\n",
    "col2: string\n",
    "```"
   ]
  },
  {
   "cell_type": "code",
   "execution_count": 2,
   "id": "ed761193-f8f5-467f-9050-76e5e73c72d4",
   "metadata": {},
   "outputs": [
    {
     "name": "stderr",
     "output_type": "stream",
     "text": [
      "Write Progress: 100%|████████████████████████████████████████████████| 200/200 [00:00<00:00, 405.00it/s]\n",
      "Repartition: 100%|████████████████████████████████████████████████████████| 1/1 [00:00<00:00,  5.84it/s]\n",
      "Write Progress: 100%|█████████████████████████████████████████████████████| 1/1 [00:00<00:00,  7.08it/s]\n"
     ]
    }
   ],
   "source": [
    "# Write to csv files in /tmp/output.\n",
    "ray.data.range(10000).write_csv(\"/tmp/output\")\n",
    "# -> /tmp/output/data0.csv, /tmp/output/data1.csv, ...\n",
    "\n",
    "# Use repartition to control the number of output files:\n",
    "ray.data.range(10000).repartition(1).write_csv(\"/tmp/output2\")\n",
    "# -> /tmp/output2/data0.csv"
   ]
  },
  {
   "cell_type": "markdown",
   "id": "738c3a5f-d673-4621-995a-f5daf7d66678",
   "metadata": {},
   "source": [
    "# above expect output\n",
    "```\n",
    "Write Progress: 100%|████████████████████████████████████████████████| 200/200 [00:00<00:00, 345.12it/s]\n",
    "Repartition: 100%|████████████████████████████████████████████████████████| 1/1 [00:00<00:00,  8.42it/s]\n",
    "Write Progress: 100%|████████████████████████████████████████████████████| 1/1 [00:00<00:00, 131.62it/s]\n",
    "```\n",
    "# write result\n",
    "(ray_tf2d7) ziyu4huang@Ziyu-MBA-M1 /tmp % du -sh output*\n",
    "800K    output\n",
    " 48K    output2"
   ]
  },
  {
   "cell_type": "code",
   "execution_count": 5,
   "id": "dfa1cb4c-c436-463f-9909-56cb385550b6",
   "metadata": {},
   "outputs": [],
   "source": [
    "import pandas as pd\n",
    "import dask.dataframe as dd\n",
    "\n",
    "# Create a Dataset from a list of Pandas DataFrame objects.\n",
    "pdf = pd.DataFrame({\"one\": [1, 2, 3], \"two\": [\"a\", \"b\", \"c\"]})\n",
    "ds = ray.data.from_pandas([pdf])\n",
    "\n",
    "# Create a Dataset from a Dask-on-Ray DataFrame.\n",
    "dask_df = dd.from_pandas(pdf, npartitions=10)\n",
    "ds = ray.data.from_dask(dask_df)"
   ]
  },
  {
   "cell_type": "code",
   "execution_count": 4,
   "id": "6f40ca87-ab30-4f03-a4b0-99ce9f9c8aed",
   "metadata": {},
   "outputs": [
    {
     "name": "stderr",
     "output_type": "stream",
     "text": [
      "Map Progress: 100%|█████████████████████████████████████████████████| 200/200 [00:00<00:00, 3013.05it/s]\n",
      "Map Progress: 100%|█████████████████████████████████████████████████| 200/200 [00:00<00:00, 2706.29it/s]\n",
      "Map Progress: 100%|█████████████████████████████████████████████████| 200/200 [00:00<00:00, 2766.33it/s]\n"
     ]
    },
    {
     "data": {
      "text/plain": [
       "[0, 0, 2, -2, 4]"
      ]
     },
     "execution_count": 4,
     "metadata": {},
     "output_type": "execute_result"
    }
   ],
   "source": [
    "import ray\n",
    "\n",
    "ds = ray.data.range(10000)\n",
    "ds = ds.map(lambda x: x * 2)\n",
    "# -> Map Progress: 100%|████████████████████| 200/200 [00:00<00:00, 1123.54it/s]\n",
    "# -> Dataset(num_blocks=200, num_rows=10000, schema=<class 'int'>)\n",
    "ds.take(5)\n",
    "# -> [0, 2, 4, 6, 8]\n",
    "\n",
    "ds.filter(lambda x: x > 5).take(5)\n",
    "# -> Map Progress: 100%|████████████████████| 200/200 [00:00<00:00, 1859.63it/s]\n",
    "# -> [6, 8, 10, 12, 14]\n",
    "\n",
    "ds.flat_map(lambda x: [x, -x]).take(5)\n",
    "# -> Map Progress: 100%|████████████████████| 200/200 [00:00<00:00, 1568.10it/s]\n",
    "# -> [0, 0, 2, -2, 4]"
   ]
  },
  {
   "cell_type": "markdown",
   "id": "3e6c4f5c-8cac-45f7-a37c-fb1a97a49b68",
   "metadata": {},
   "source": [
    "### eee\n",
    "# tht\n",
    "[user draw io in jupter lab](https://zhuanlan.zhihu.com/p/70908238)"
   ]
  },
  {
   "cell_type": "code",
   "execution_count": null,
   "id": "dde959a2-2a58-455a-a691-bee333e21b84",
   "metadata": {},
   "outputs": [],
   "source": []
  }
 ],
 "metadata": {
  "kernelspec": {
   "display_name": "Python 3 (ipykernel)",
   "language": "python",
   "name": "python3"
  },
  "language_info": {
   "codemirror_mode": {
    "name": "ipython",
    "version": 3
   },
   "file_extension": ".py",
   "mimetype": "text/x-python",
   "name": "python",
   "nbconvert_exporter": "python",
   "pygments_lexer": "ipython3",
   "version": "3.7.13"
  },
  "toc-showcode": true,
  "widgets": {
   "application/vnd.jupyter.widget-state+json": {
    "state": {},
    "version_major": 2,
    "version_minor": 0
   }
  }
 },
 "nbformat": 4,
 "nbformat_minor": 5
}
