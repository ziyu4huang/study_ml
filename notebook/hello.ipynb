{
 "cells": [
  {
   "cell_type": "code",
   "execution_count": 1,
   "id": "54b852c1-f095-4e5d-8f31-215682e0cb79",
   "metadata": {},
   "outputs": [
    {
     "data": {
      "text/plain": [
       "'1.15.5'"
      ]
     },
     "execution_count": 1,
     "metadata": {},
     "output_type": "execute_result"
    }
   ],
   "source": [
    "import tensorflow as tf\n",
    "tf.__version__"
   ]
  },
  {
   "cell_type": "markdown",
   "id": "348a0cca",
   "metadata": {},
   "source": [
    "[Cluster Quick](https://docs.ray.io/en/latest/cluster/quickstart.html)\n",
    "\n",
    "\n",
    "Start cluster head with below dashboard setting.\n",
    "Then you can open dashbord with remote URL\n",
    "also , \"ray start\" process will not end immidately, just block wait you to interrupt.\n",
    "* otherwise you have to use \"ray stop\" too kill this process.\n",
    "\n",
    "```shell\n",
    "\n",
    "ray start --head --port 6379 \\\n",
    "     --include-dashboard true --dashboard-host 0.0.0.0 --dashboard-port 8265 \\\n",
    "     --block\n",
    "\n",
    "```\n",
    "\n",
    "How to [Config it](https://docs.ray.io/en/releases-1.2.0/configure.html#configuring-ray)"
   ]
  },
  {
   "cell_type": "code",
   "execution_count": 1,
   "id": "d4780724-5439-430e-9994-3311c7211c6c",
   "metadata": {},
   "outputs": [
    {
     "name": "stdout",
     "output_type": "stream",
     "text": [
      "Counter({'127.0.1.1': 10000})\n"
     ]
    }
   ],
   "source": [
    "#tf.config.list_physical_devices()\n",
    "\n",
    "from collections import Counter\n",
    "import socket\n",
    "import time\n",
    "\n",
    "def f():\n",
    "    time.sleep(0.001)\n",
    "    # Return IP address.\n",
    "    return socket.gethostbyname(socket.gethostname())\n",
    "\n",
    "ip_addresses = [f() for _ in range(10000)]\n",
    "print(Counter(ip_addresses))"
   ]
  },
  {
   "cell_type": "markdown",
   "id": "bee3998c",
   "metadata": {},
   "source": [
    "Save this application as script.py and execute it by running the command python script.py. \n",
    "The application should take 10 seconds to run and output something similar to \n",
    "Counter({'127.0.0.1': 10000})."
   ]
  },
  {
   "cell_type": "code",
   "execution_count": 2,
   "id": "bdff31da",
   "metadata": {},
   "outputs": [
    {
     "data": {
      "text/plain": [
       "RayContext(dashboard_url='172.23.26.224:8265', python_version='3.7.13', ray_version='1.12.0', ray_commit='f18fc31c7562990955556899090f8e8656b48d2d', address_info={'node_ip_address': '172.23.26.224', 'raylet_ip_address': '172.23.26.224', 'redis_address': None, 'object_store_address': '/tmp/ray/session_2022-04-29_06-04-23_689553_14553/sockets/plasma_store', 'raylet_socket_name': '/tmp/ray/session_2022-04-29_06-04-23_689553_14553/sockets/raylet', 'webui_url': '172.23.26.224:8265', 'session_dir': '/tmp/ray/session_2022-04-29_06-04-23_689553_14553', 'metrics_export_port': 59155, 'gcs_address': '172.23.26.224:6379', 'address': '172.23.26.224:6379', 'node_id': '817310d2701c0f368296cca509f55e9c363d4085a200224855f33d0b'})"
      ]
     },
     "execution_count": 2,
     "metadata": {},
     "output_type": "execute_result"
    }
   ],
   "source": [
    "import ray\n",
    "ray.init(address='auto') \n",
    "# auto only works when you run on same machine (ray start --head)"
   ]
  },
  {
   "cell_type": "code",
   "execution_count": 3,
   "id": "bba6d911",
   "metadata": {},
   "outputs": [
    {
     "name": "stdout",
     "output_type": "stream",
     "text": [
      "Counter({'127.0.1.1': 10000})\n"
     ]
    }
   ],
   "source": [
    "\n",
    "@ray.remote\n",
    "def f():\n",
    "    time.sleep(0.001)\n",
    "    # Return IP address.\n",
    "    return socket.gethostbyname(socket.gethostname())\n",
    "\n",
    "object_ids = [f.remote() for _ in range(10000)]\n",
    "ip_addresses = ray.get(object_ids)\n",
    "print(Counter(ip_addresses))"
   ]
  },
  {
   "cell_type": "code",
   "execution_count": 11,
   "id": "d86da0c8",
   "metadata": {},
   "outputs": [
    {
     "name": "stdout",
     "output_type": "stream",
     "text": [
      "This cluster consists of\n",
      "    1 nodes in total\n",
      "    8.0 CPU resources in total\n",
      "\n",
      "Tasks executed\n",
      "    10000 tasks on 127.0.1.1 Linux-5.10.102.1-microsoft-standard-WSL2-x86_64-with-debian-bullseye-sid\n"
     ]
    }
   ],
   "source": [
    "print('''This cluster consists of\n",
    "    {} nodes in total\n",
    "    {} CPU resources in total\n",
    "'''.format(len(ray.nodes()), ray.cluster_resources()['CPU']))\n",
    "\n",
    "@ray.remote\n",
    "def f():\n",
    "    time.sleep(0.001)\n",
    "    # Return IP address.\n",
    "    import platform\n",
    "    remote_info = socket.gethostbyname(socket.gethostname())\n",
    "    remote_info += ' ' + platform.platform()\n",
    "    return remote_info\n",
    "\n",
    "object_ids = [f.remote() for _ in range(10000)]\n",
    "ip_addresses = ray.get(object_ids)\n",
    "\n",
    "print('Tasks executed')\n",
    "for ip_address, num_tasks in Counter(ip_addresses).items():\n",
    "    print('    {} tasks on {}'.format(num_tasks, ip_address))"
   ]
  },
  {
   "cell_type": "markdown",
   "id": "ed5032cb",
   "metadata": {},
   "source": [
    "# steup keras for this\n",
    "[Keras probllem in M1 Ray/TF pip](https://stackoverflow.com/questions/58202095/cant-import-tensorflow-keras-in-vs-code)\n",
    "\n",
    "\n",
    "Simply select correct interpreter ddd\n",
    "\n",
    "[ignore keras ?](https://stackoverflow.com/questions/58202095/cant-import-tensorflow-keras-in-vs-code)"
   ]
  },
  {
   "cell_type": "code",
   "execution_count": 2,
   "id": "9a737ddc-629c-46f4-9834-340be3a962ed",
   "metadata": {},
   "outputs": [],
   "source": [
    "import tensorflow as tf\n",
    "from tensorflow.keras import datasets, layers, models\n",
    "\n",
    "(train_images, train_labels), (test_images, test_labels) = datasets.fashion_mnist.load_data()\n",
    "train_images, test_images = train_images / 255.0, test_images / 255.0\n"
   ]
  },
  {
   "cell_type": "code",
   "execution_count": 3,
   "id": "953ed346-c414-44b9-94e5-eb9f1a768259",
   "metadata": {},
   "outputs": [
    {
     "name": "stdout",
     "output_type": "stream",
     "text": [
      "WARNING:tensorflow:From /home/ziyu4huang/tf1dml/lib/python3.7/site-packages/tensorflow_core/python/ops/resource_variable_ops.py:1630: calling BaseResourceVariable.__init__ (from tensorflow.python.ops.resource_variable_ops) with constraint is deprecated and will be removed in a future version.\n",
      "Instructions for updating:\n",
      "If using Keras pass *_constraint arguments to layers.\n",
      "Train on 60000 samples, validate on 10000 samples\n"
     ]
    },
    {
     "name": "stderr",
     "output_type": "stream",
     "text": [
      "2022-04-29 06:23:43.338993: I tensorflow/stream_executor/platform/default/dso_loader.cc:97] Successfully opened dynamic library libdirectml.24bfac66e4ee42ec393a5fb471412d0177bc7bcf.so\n",
      "2022-04-29 06:23:43.339243: I tensorflow/stream_executor/platform/default/dso_loader.cc:97] Successfully opened dynamic library libdxcore.so\n",
      "2022-04-29 06:23:43.350863: I tensorflow/stream_executor/platform/default/dso_loader.cc:97] Successfully opened dynamic library libd3d12.so\n",
      "2022-04-29 06:23:44.571986: I tensorflow/core/common_runtime/dml/dml_device_cache.cc:250] DirectML device enumeration: found 1 compatible adapters.\n",
      "2022-04-29 06:23:44.573407: I tensorflow/core/platform/cpu_feature_guard.cc:142] Your CPU supports instructions that this TensorFlow binary was not compiled to use: AVX2 FMA\n",
      "2022-04-29 06:23:44.575155: I tensorflow/core/common_runtime/dml/dml_device_cache.cc:186] DirectML: creating device on adapter 0 (AMD Radeon RX 5700 XT\n"
     ]
    },
    {
     "name": "stdout",
     "output_type": "stream",
     "text": [
      "Epoch 1/10\n",
      "60000/60000 [==============================] - 7s 117us/sample - loss: 0.4934 - acc: 0.8232 - val_loss: 0.4307 - val_acc: 0.8428\n",
      "Epoch 2/10\n",
      "60000/60000 [==============================] - 7s 117us/sample - loss: 0.3658 - acc: 0.8652 - val_loss: 0.3694 - val_acc: 0.8702\n",
      "Epoch 3/10\n",
      "60000/60000 [==============================] - 7s 123us/sample - loss: 0.3305 - acc: 0.8796 - val_loss: 0.3693 - val_acc: 0.8682\n",
      "Epoch 4/10\n",
      "60000/60000 [==============================] - 8s 131us/sample - loss: 0.3066 - acc: 0.8865 - val_loss: 0.3633 - val_acc: 0.8711\n",
      "Epoch 5/10\n",
      "60000/60000 [==============================] - 8s 133us/sample - loss: 0.2893 - acc: 0.8920 - val_loss: 0.3493 - val_acc: 0.8713\n",
      "Epoch 6/10\n",
      "60000/60000 [==============================] - 8s 133us/sample - loss: 0.2750 - acc: 0.8978 - val_loss: 0.3490 - val_acc: 0.8727\n",
      "Epoch 7/10\n",
      "60000/60000 [==============================] - 8s 130us/sample - loss: 0.2617 - acc: 0.9024 - val_loss: 0.3319 - val_acc: 0.8809\n",
      "Epoch 8/10\n",
      "60000/60000 [==============================] - 7s 117us/sample - loss: 0.2534 - acc: 0.9058 - val_loss: 0.3486 - val_acc: 0.8782\n",
      "Epoch 9/10\n",
      "60000/60000 [==============================] - 7s 117us/sample - loss: 0.2420 - acc: 0.9086 - val_loss: 0.3745 - val_acc: 0.8772\n",
      "Epoch 10/10\n",
      "60000/60000 [==============================] - 7s 117us/sample - loss: 0.2343 - acc: 0.9120 - val_loss: 0.3219 - val_acc: 0.8889\n"
     ]
    }
   ],
   "source": [
    "\n",
    "model = models.Sequential([\n",
    "    layers.Flatten(input_shape=(28, 28)),\n",
    "    layers.Dense(128, activation='relu'),\n",
    "    layers.Dense(64, activation='relu'),\n",
    "    layers.Dense(10)\n",
    "])\n",
    "model.compile(\n",
    "    optimizer='adam',\n",
    "    loss=tf.keras.losses.SparseCategoricalCrossentropy(from_logits=True),\n",
    "    metrics=['accuracy']\n",
    ")\n",
    "history = model.fit(\n",
    "    train_images, \n",
    "    train_labels, \n",
    "    epochs=10, \n",
    "    validation_data=(test_images, test_labels)\n",
    ")"
   ]
  },
  {
   "cell_type": "markdown",
   "id": "ce22965e-5bc6-40e2-9d37-0d208a600690",
   "metadata": {},
   "source": [
    "# this take long time to compiles  10/10 epoch \n",
    "each takes 10 s for running "
   ]
  },
  {
   "cell_type": "markdown",
   "id": "2d721df7",
   "metadata": {},
   "source": []
  }
 ],
 "metadata": {
  "kernelspec": {
   "display_name": "Python 3 (ipykernel)",
   "language": "python",
   "name": "python3"
  },
  "language_info": {
   "codemirror_mode": {
    "name": "ipython",
    "version": 3
   },
   "file_extension": ".py",
   "mimetype": "text/x-python",
   "name": "python",
   "nbconvert_exporter": "python",
   "pygments_lexer": "ipython3",
   "version": "3.7.13"
  },
  "toc-autonumbering": true,
  "toc-showmarkdowntxt": true,
  "widgets": {
   "application/vnd.jupyter.widget-state+json": {
    "state": {},
    "version_major": 2,
    "version_minor": 0
   }
  }
 },
 "nbformat": 4,
 "nbformat_minor": 5
}
