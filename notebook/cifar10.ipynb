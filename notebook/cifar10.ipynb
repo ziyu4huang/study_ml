{
 "cells": [
  {
   "cell_type": "code",
   "execution_count": 2,
   "id": "36832532-29c4-45c8-8c13-bffe4caf09de",
   "metadata": {},
   "outputs": [],
   "source": [
    "import tensorflow as tf\n",
    "from tensorflow.keras import datasets, layers, models\n",
    "\n",
    "(train_images, train_labels), (test_images, test_labels) = datasets.cifar10.load_data()\n",
    "train_images, test_images = train_images / 255.0, test_images / 255.0\n",
    "\n",
    "# ONLY ON THE MAC\n",
    "# from tensorflow.python.compiler.mlcompute import mlcompute\n",
    "# mlcompute.set_mlc_device(device_name='gpu')\n"
   ]
  },
  {
   "cell_type": "code",
   "execution_count": 4,
   "id": "15e9dcb6-9134-4005-a873-822cf7a07de3",
   "metadata": {},
   "outputs": [
    {
     "name": "stdout",
     "output_type": "stream",
     "text": [
      "WARNING:tensorflow:From /home/ziyu4huang/tf1dml/lib/python3.7/site-packages/tensorflow_core/python/ops/resource_variable_ops.py:1630: calling BaseResourceVariable.__init__ (from tensorflow.python.ops.resource_variable_ops) with constraint is deprecated and will be removed in a future version.\n",
      "Instructions for updating:\n",
      "If using Keras pass *_constraint arguments to layers.\n",
      "Train on 50000 samples, validate on 10000 samples\n",
      "WARNING:tensorflow:OMP_NUM_THREADS is no longer used by the default Keras config. To configure the number of threads, use tf.config.threading APIs.\n"
     ]
    },
    {
     "name": "stderr",
     "output_type": "stream",
     "text": [
      "2022-04-28 21:15:00.180543: I tensorflow/stream_executor/platform/default/dso_loader.cc:97] Successfully opened dynamic library libdirectml.24bfac66e4ee42ec393a5fb471412d0177bc7bcf.so\n",
      "2022-04-28 21:15:00.180693: I tensorflow/stream_executor/platform/default/dso_loader.cc:97] Successfully opened dynamic library libdxcore.so\n",
      "2022-04-28 21:15:00.190613: I tensorflow/stream_executor/platform/default/dso_loader.cc:97] Successfully opened dynamic library libd3d12.so\n",
      "2022-04-28 21:15:01.435026: I tensorflow/core/common_runtime/dml/dml_device_cache.cc:250] DirectML device enumeration: found 1 compatible adapters.\n",
      "2022-04-28 21:15:01.436657: I tensorflow/core/platform/cpu_feature_guard.cc:142] Your CPU supports instructions that this TensorFlow binary was not compiled to use: AVX2 FMA\n",
      "2022-04-28 21:15:01.438438: I tensorflow/core/common_runtime/dml/dml_device_cache.cc:186] DirectML: creating device on adapter 0 (AMD Radeon RX 5700 XT\n"
     ]
    },
    {
     "name": "stdout",
     "output_type": "stream",
     "text": [
      "Epoch 1/10\n",
      "50000/50000 [==============================] - 7s 141us/sample - loss: 1.5475 - acc: 0.4362 - val_loss: 1.3094 - val_acc: 0.5305\n",
      "Epoch 2/10\n",
      "50000/50000 [==============================] - 7s 139us/sample - loss: 1.1613 - acc: 0.5911 - val_loss: 1.1129 - val_acc: 0.6064\n",
      "Epoch 3/10\n",
      "50000/50000 [==============================] - 7s 139us/sample - loss: 0.9986 - acc: 0.6497 - val_loss: 0.9707 - val_acc: 0.6608\n",
      "Epoch 4/10\n",
      "50000/50000 [==============================] - 7s 138us/sample - loss: 0.8888 - acc: 0.6877 - val_loss: 0.8974 - val_acc: 0.6892\n",
      "Epoch 5/10\n",
      "50000/50000 [==============================] - 7s 150us/sample - loss: 0.8137 - acc: 0.7134 - val_loss: 0.9360 - val_acc: 0.6751\n",
      "Epoch 6/10\n",
      "50000/50000 [==============================] - 7s 148us/sample - loss: 0.7548 - acc: 0.7350 - val_loss: 0.8960 - val_acc: 0.6941\n",
      "Epoch 7/10\n",
      "50000/50000 [==============================] - 8s 160us/sample - loss: 0.7039 - acc: 0.7532 - val_loss: 0.9023 - val_acc: 0.6921\n",
      "Epoch 8/10\n",
      "50000/50000 [==============================] - 7s 145us/sample - loss: 0.6657 - acc: 0.7679 - val_loss: 0.8969 - val_acc: 0.6919\n",
      "Epoch 9/10\n",
      "50000/50000 [==============================] - 8s 155us/sample - loss: 0.6181 - acc: 0.7824 - val_loss: 0.8893 - val_acc: 0.7039\n",
      "Epoch 10/10\n",
      "50000/50000 [==============================] - 7s 147us/sample - loss: 0.5815 - acc: 0.7960 - val_loss: 0.8823 - val_acc: 0.7098\n"
     ]
    }
   ],
   "source": [
    "model = models.Sequential()\n",
    "model.add(layers.Conv2D(32, (3, 3), activation='relu', input_shape=(32, 32, 3)))\n",
    "model.add(layers.MaxPooling2D((2, 2)))\n",
    "model.add(layers.Conv2D(64, (3, 3), activation='relu'))\n",
    "model.add(layers.MaxPooling2D((2, 2)))\n",
    "model.add(layers.Conv2D(64, (3, 3), activation='relu'))\n",
    "model.add(layers.Flatten())\n",
    "model.add(layers.Dense(64, activation='relu'))\n",
    "model.add(layers.Dense(10))\n",
    "\n",
    "model.compile(\n",
    "    optimizer='adam',\n",
    "    loss=tf.keras.losses.SparseCategoricalCrossentropy(from_logits=True),\n",
    "    metrics=['accuracy']\n",
    ")\n",
    "history = model.fit(\n",
    "    train_images, \n",
    "    train_labels, \n",
    "    epochs=10, \n",
    "    validation_data=(test_images, test_labels)\n",
    ")"
   ]
  },
  {
   "cell_type": "code",
   "execution_count": 5,
   "id": "d595956a-c439-4622-9bea-037a85d88185",
   "metadata": {},
   "outputs": [],
   "source": [
    "# Load the TensorBoard notebook extension\n",
    "%load_ext tensorboard"
   ]
  },
  {
   "cell_type": "code",
   "execution_count": 6,
   "id": "f8639b45-7e87-489b-afcc-52e4780d7f3c",
   "metadata": {},
   "outputs": [
    {
     "data": {
      "text/html": [
       "\n",
       "      <iframe id=\"tensorboard-frame-2102bb0666acade7\" width=\"100%\" height=\"800\" frameborder=\"0\">\n",
       "      </iframe>\n",
       "      <script>\n",
       "        (function() {\n",
       "          const frame = document.getElementById(\"tensorboard-frame-2102bb0666acade7\");\n",
       "          const url = new URL(\"/\", window.location);\n",
       "          url.port = 6006;\n",
       "          frame.src = url;\n",
       "        })();\n",
       "      </script>\n",
       "  "
      ],
      "text/plain": [
       "<IPython.core.display.HTML object>"
      ]
     },
     "metadata": {},
     "output_type": "display_data"
    }
   ],
   "source": [
    "%tensorboard --host localhost --logdir=/home/ziyu4huang/ray_results/default"
   ]
  },
  {
   "cell_type": "code",
   "execution_count": 7,
   "id": "17f2bd94-b206-4500-884c-32538db417a2",
   "metadata": {},
   "outputs": [],
   "source": [
    "assert ray.is_initialized() == True"
   ]
  },
  {
   "cell_type": "code",
   "execution_count": 8,
   "id": "1201c998-c998-4d77-9f47-d0db0240f056",
   "metadata": {},
   "outputs": [
    {
     "data": {
      "text/plain": [
       "True"
      ]
     },
     "execution_count": 8,
     "metadata": {},
     "output_type": "execute_result"
    }
   ],
   "source": [
    "ray.is_initialized()"
   ]
  },
  {
   "cell_type": "code",
   "execution_count": null,
   "id": "a331762a-aab4-4d51-9f93-339ed1790df7",
   "metadata": {},
   "outputs": [],
   "source": []
  }
 ],
 "metadata": {
  "kernelspec": {
   "display_name": "Python 3 (ipykernel)",
   "language": "python",
   "name": "python3"
  },
  "language_info": {
   "codemirror_mode": {
    "name": "ipython",
    "version": 3
   },
   "file_extension": ".py",
   "mimetype": "text/x-python",
   "name": "python",
   "nbconvert_exporter": "python",
   "pygments_lexer": "ipython3",
   "version": "3.7.13"
  }
 },
 "nbformat": 4,
 "nbformat_minor": 5
}
