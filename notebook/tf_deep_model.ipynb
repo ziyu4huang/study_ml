{
 "cells": [
  {
   "cell_type": "code",
   "execution_count": 1,
   "id": "36832532-29c4-45c8-8c13-bffe4caf09de",
   "metadata": {},
   "outputs": [],
   "source": [
    "import tensorflow as tf\n",
    "from tensorflow.keras import datasets, layers, models\n",
    "\n",
    "(train_images, train_labels), (test_images, test_labels) = datasets.cifar10.load_data()\n",
    "train_images, test_images = train_images / 255.0, test_images / 255.0\n",
    "\n",
    "# ONLY ON THE MAC\n",
    "# from tensorflow.python.compiler.mlcompute import mlcompute\n",
    "# mlcompute.set_mlc_device(device_name='gpu')\n",
    "\n"
   ]
  },
  {
   "cell_type": "code",
   "execution_count": 2,
   "id": "15e9dcb6-9134-4005-a873-822cf7a07de3",
   "metadata": {},
   "outputs": [
    {
     "name": "stdout",
     "output_type": "stream",
     "text": [
      "WARNING:tensorflow:From /home/ziyu4huang/tf1dml/lib/python3.7/site-packages/tensorflow_core/python/ops/resource_variable_ops.py:1630: calling BaseResourceVariable.__init__ (from tensorflow.python.ops.resource_variable_ops) with constraint is deprecated and will be removed in a future version.\n",
      "Instructions for updating:\n",
      "If using Keras pass *_constraint arguments to layers.\n",
      "Train on 50000 samples, validate on 10000 samples\n"
     ]
    },
    {
     "name": "stderr",
     "output_type": "stream",
     "text": [
      "2022-04-29 07:15:09.173858: I tensorflow/stream_executor/platform/default/dso_loader.cc:97] Successfully opened dynamic library libdirectml.24bfac66e4ee42ec393a5fb471412d0177bc7bcf.so\n",
      "2022-04-29 07:15:09.174076: I tensorflow/stream_executor/platform/default/dso_loader.cc:97] Successfully opened dynamic library libdxcore.so\n",
      "2022-04-29 07:15:09.176072: I tensorflow/stream_executor/platform/default/dso_loader.cc:97] Successfully opened dynamic library libd3d12.so\n",
      "2022-04-29 07:15:09.793240: I tensorflow/core/common_runtime/dml/dml_device_cache.cc:250] DirectML device enumeration: found 1 compatible adapters.\n",
      "2022-04-29 07:15:09.794855: I tensorflow/core/platform/cpu_feature_guard.cc:142] Your CPU supports instructions that this TensorFlow binary was not compiled to use: AVX2 FMA\n",
      "2022-04-29 07:15:09.798459: I tensorflow/core/common_runtime/dml/dml_device_cache.cc:186] DirectML: creating device on adapter 0 (AMD Radeon RX 5700 XT\n"
     ]
    },
    {
     "name": "stdout",
     "output_type": "stream",
     "text": [
      "Epoch 1/10\n",
      "50000/50000 [==============================] - 8s 170us/sample - loss: 1.5388 - acc: 0.4401 - val_loss: 1.2746 - val_acc: 0.5394\n",
      "Epoch 2/10\n",
      "50000/50000 [==============================] - 8s 154us/sample - loss: 1.1765 - acc: 0.5843 - val_loss: 1.0944 - val_acc: 0.6159\n",
      "Epoch 3/10\n",
      "50000/50000 [==============================] - 8s 154us/sample - loss: 1.0142 - acc: 0.6437 - val_loss: 0.9966 - val_acc: 0.6565\n",
      "Epoch 4/10\n",
      "50000/50000 [==============================] - 8s 154us/sample - loss: 0.9184 - acc: 0.6811 - val_loss: 0.9152 - val_acc: 0.6855\n",
      "Epoch 5/10\n",
      "50000/50000 [==============================] - 8s 153us/sample - loss: 0.8409 - acc: 0.7058 - val_loss: 0.8991 - val_acc: 0.6883\n",
      "Epoch 6/10\n",
      "50000/50000 [==============================] - 8s 156us/sample - loss: 0.7861 - acc: 0.7252 - val_loss: 0.9486 - val_acc: 0.6724\n",
      "Epoch 7/10\n",
      "50000/50000 [==============================] - 8s 156us/sample - loss: 0.7355 - acc: 0.7422 - val_loss: 0.8316 - val_acc: 0.7169\n",
      "Epoch 8/10\n",
      "50000/50000 [==============================] - 8s 153us/sample - loss: 0.6967 - acc: 0.7541 - val_loss: 0.8964 - val_acc: 0.7021\n",
      "Epoch 9/10\n",
      "50000/50000 [==============================] - 8s 154us/sample - loss: 0.6597 - acc: 0.7690 - val_loss: 0.8365 - val_acc: 0.7230\n",
      "Epoch 10/10\n",
      "50000/50000 [==============================] - 8s 154us/sample - loss: 0.6194 - acc: 0.7832 - val_loss: 0.8671 - val_acc: 0.7125\n"
     ]
    }
   ],
   "source": [
    "model = models.Sequential()\n",
    "model.add(layers.Conv2D(32, (3, 3), activation='relu', input_shape=(32, 32, 3)))\n",
    "model.add(layers.MaxPooling2D((2, 2)))\n",
    "model.add(layers.Conv2D(64, (3, 3), activation='relu'))\n",
    "model.add(layers.MaxPooling2D((2, 2)))\n",
    "model.add(layers.Conv2D(64, (3, 3), activation='relu'))\n",
    "model.add(layers.Flatten())\n",
    "model.add(layers.Dense(64, activation='relu'))\n",
    "model.add(layers.Dense(10))\n",
    "\n",
    "model.compile(\n",
    "    optimizer='adam',\n",
    "    loss=tf.keras.losses.SparseCategoricalCrossentropy(from_logits=True),\n",
    "    metrics=['accuracy']\n",
    ")\n",
    "history = model.fit(\n",
    "    train_images, \n",
    "    train_labels, \n",
    "    epochs=10, \n",
    "    validation_data=(test_images, test_labels)\n",
    ")"
   ]
  },
  {
   "cell_type": "code",
   "execution_count": null,
   "id": "b4d20d30-f276-42cb-9435-45be4ac1304a",
   "metadata": {},
   "outputs": [],
   "source": []
  }
 ],
 "metadata": {
  "kernelspec": {
   "display_name": "Python 3 (ipykernel)",
   "language": "python",
   "name": "python3"
  },
  "language_info": {
   "codemirror_mode": {
    "name": "ipython",
    "version": 3
   },
   "file_extension": ".py",
   "mimetype": "text/x-python",
   "name": "python",
   "nbconvert_exporter": "python",
   "pygments_lexer": "ipython3",
   "version": "3.7.13"
  },
  "widgets": {
   "application/vnd.jupyter.widget-state+json": {
    "state": {},
    "version_major": 2,
    "version_minor": 0
   }
  }
 },
 "nbformat": 4,
 "nbformat_minor": 5
}
